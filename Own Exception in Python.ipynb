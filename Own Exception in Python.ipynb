{
 "cells": [
  {
   "cell_type": "code",
   "execution_count": 1,
   "metadata": {},
   "outputs": [],
   "source": [
    "#example 1\n",
    "class DivisionByOne(Exception):\n",
    "    pass\n",
    "class InputAString(Exception):\n",
    "    pass\n",
    "    "
   ]
  },
  {
   "cell_type": "code",
   "execution_count": 4,
   "metadata": {},
   "outputs": [
    {
     "name": "stdout",
     "output_type": "stream",
     "text": [
      "a value:hj\n",
      "b value:1\n",
      "the input value of b was one\n"
     ]
    }
   ],
   "source": [
    "try:\n",
    "    a=input(\"a value:\")\n",
    "    b=int(input(\"b value:\"))\n",
    "    \n",
    "    if b==1:\n",
    "        raise DivisionByOne\n",
    "    elif(type(a)==str):\n",
    "        raise InputAAstring\n",
    "except DivisionByOne:\n",
    "    print(\"the input value of b was one\")\n",
    "except InputAString:\n",
    "    print(\"it is string\")\n"
   ]
  },
  {
   "cell_type": "code",
   "execution_count": 5,
   "metadata": {},
   "outputs": [],
   "source": [
    "#example 2\n",
    "class StringListException(Exception):\n",
    "    pass"
   ]
  },
  {
   "cell_type": "code",
   "execution_count": 7,
   "metadata": {},
   "outputs": [
    {
     "name": "stdout",
     "output_type": "stream",
     "text": [
      "enter:5,7,8\n",
      "enter:5,6,7\n"
     ]
    }
   ],
   "source": [
    "try:\n",
    "    a=input(\"enter:\")\n",
    "    b=input(\"enter:\")\n",
    "    if(type(a)!=type(b)):\n",
    "        raise StringListException\n",
    "except StringListException:\n",
    "    print(\"string list not allowed\")\n",
    "        "
   ]
  },
  {
   "cell_type": "code",
   "execution_count": null,
   "metadata": {},
   "outputs": [],
   "source": []
  }
 ],
 "metadata": {
  "kernelspec": {
   "display_name": "Python 3",
   "language": "python",
   "name": "python3"
  },
  "language_info": {
   "codemirror_mode": {
    "name": "ipython",
    "version": 3
   },
   "file_extension": ".py",
   "mimetype": "text/x-python",
   "name": "python",
   "nbconvert_exporter": "python",
   "pygments_lexer": "ipython3",
   "version": "3.7.3"
  }
 },
 "nbformat": 4,
 "nbformat_minor": 2
}
